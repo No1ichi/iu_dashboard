{
 "cells": [
  {
   "cell_type": "code",
   "execution_count": null,
   "id": "initial_id",
   "metadata": {
    "collapsed": true
   },
   "outputs": [],
   "source": [
    ""
   ]
  },
  {
   "metadata": {},
   "cell_type": "markdown",
   "source": [
    "GUI\n",
    "\n",
    "GUI neu erstellen in QTCreater mit richtigen MainWindow Einstellungen.\n",
    "- Update an GUI beachten, siehe Dokument Phase 2 => erledigt\n",
    "\n",
    "Nächsten Schritte:\n",
    "- Allgemeine Frage besteht, ob MainWindow via mainwindow.ui eingebunden wird, also bleibt in C++, oder Umwandeln zu Python-Datei. Im Moment ist es als mainwindow.ui (als C++) eingebunden.\n",
    "- Klären, was bei Add Grade, Add Course, Add Semester, Add User Data alles eingegeben werden muss. Entsprechend muss ein neues Widget bzw eingabefeld erstellt werden, das aufpoppt beim drücken des knopfes.\n",
    "- informieren, wie MatPlotLib graphen eingebunden werden\n",
    "- Die Pfeile bei der linken oberen Kachel AVG.Grades müssen noch erstellt werden. Aber evtl als pixmap in QLabel einbetten?\n",
    "\n",
    "\n",
    "\n"
   ],
   "id": "6982e3e7946e8760"
  },
  {
   "metadata": {},
   "cell_type": "code",
   "outputs": [],
   "execution_count": null,
   "source": "",
   "id": "656931d0d6847a6c"
  },
  {
   "metadata": {},
   "cell_type": "markdown",
   "source": [
    "- Updates von Microsoft Word Doc übernehmen. Schlachtplan Dokument für Phase 2 ganz unten\n",
    "\n",
    "- Klassen updaten für Speicherung und Laden von Daten mit DataManagingClasses JSON-Files\n",
    "\n",
    "- GUI verbindung mit Code / Interaktion"
   ],
   "id": "5d92545d1cf67b89"
  }
 ],
 "metadata": {
  "kernelspec": {
   "display_name": "Python 3",
   "language": "python",
   "name": "python3"
  },
  "language_info": {
   "codemirror_mode": {
    "name": "ipython",
    "version": 2
   },
   "file_extension": ".py",
   "mimetype": "text/x-python",
   "name": "python",
   "nbconvert_exporter": "python",
   "pygments_lexer": "ipython2",
   "version": "2.7.6"
  }
 },
 "nbformat": 4,
 "nbformat_minor": 5
}
