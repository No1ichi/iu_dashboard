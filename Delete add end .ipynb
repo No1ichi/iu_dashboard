{
 "cells": [
  {
   "cell_type": "code",
   "execution_count": null,
   "id": "initial_id",
   "metadata": {
    "collapsed": true
   },
   "outputs": [],
   "source": [
    ""
   ]
  },
  {
   "metadata": {},
   "cell_type": "markdown",
   "source": [
    "GUI\n",
    "\n",
    "GUI neu erstellen in QTCreater mit richtigen MainWindow Einstellungen.\n",
    "- Update an GUI beachten, siehe Dokument Phase 2\n",
    "\n",
    "Alte \"mainwindow.py\" datei kann gelöscht werden.\n",
    "\n",
    "Neue GUI Dateien einfügen und \"Main.py\" entsprechend anpassen, damit GUI gestartet wird\n"
   ],
   "id": "6982e3e7946e8760"
  },
  {
   "metadata": {},
   "cell_type": "code",
   "outputs": [],
   "execution_count": null,
   "source": "",
   "id": "656931d0d6847a6c"
  },
  {
   "metadata": {},
   "cell_type": "markdown",
   "source": [
    "- Updates von Microsoft Word Doc übernehmen. Schlachtplan Dokument für Phase 2 ganz unten\n",
    "\n",
    "- Klassen updaten für Speicherung und Laden von Daten mit DataManagingClasses JSON-Files\n",
    "\n",
    "- GUI verbindung mit Code / Interaktion"
   ],
   "id": "5d92545d1cf67b89"
  }
 ],
 "metadata": {
  "kernelspec": {
   "display_name": "Python 3",
   "language": "python",
   "name": "python3"
  },
  "language_info": {
   "codemirror_mode": {
    "name": "ipython",
    "version": 2
   },
   "file_extension": ".py",
   "mimetype": "text/x-python",
   "name": "python",
   "nbconvert_exporter": "python",
   "pygments_lexer": "ipython2",
   "version": "2.7.6"
  }
 },
 "nbformat": 4,
 "nbformat_minor": 5
}
